{
  "nbformat": 4,
  "nbformat_minor": 0,
  "metadata": {
    "colab": {
      "provenance": [],
      "authorship_tag": "ABX9TyOrY4wzZ215aY8RZkvkDVU5",
      "include_colab_link": true
    },
    "kernelspec": {
      "name": "python3",
      "display_name": "Python 3"
    },
    "language_info": {
      "name": "python"
    }
  },
  "cells": [
    {
      "cell_type": "markdown",
      "metadata": {
        "id": "view-in-github",
        "colab_type": "text"
      },
      "source": [
        "<a href=\"https://colab.research.google.com/github/aleks-haksly/stratascratch/blob/main/Pandas/hard.ipynb\" target=\"_parent\"><img src=\"https://colab.research.google.com/assets/colab-badge.svg\" alt=\"Open In Colab\"/></a>"
      ]
    },
    {
      "cell_type": "markdown",
      "source": [
        "[1. Top 5 States With 5 Star Businesses](https://platform.stratascratch.com/coding/10046-top-5-states-with-5-star-businesses?code_type=1)\n",
        "\n",
        "Find the top 5 states with the most 5 star businesses. Output the state name along with the number of 5-star businesses and order records by the number of 5-star businesses in descending order. In case there are ties in the number of businesses, return all the unique states. If two states have the same result, sort them in alphabetical order.\n",
        "\n",
        "```sql\n",
        "SELECT state, n_businesses FROM (\n",
        "select\n",
        "state,\n",
        "count(stars) FILTER (WHERE stars = 5) AS n_businesses,\n",
        "DENSE_RANK() OVER  (ORDER BY count(stars) FILTER (WHERE stars = 5) DESC) as rnk\n",
        "from yelp_business\n",
        "GROUP BY state\n",
        "ORDER BY n_businesses DESC, state) sub\n",
        "WHERE sub.rnk < 6\n",
        "\n",
        "```"
      ],
      "metadata": {
        "id": "ZJeyX0y15UCK"
      }
    },
    {
      "cell_type": "code",
      "source": [
        "import pandas as pd\n",
        "import numpy as np\n",
        "\n",
        "# Start writing code\n",
        "temp = yelp_business.groupby(\"state\", as_index=False)\\\n",
        "             .agg(n_businesses = ('stars', lambda x: sum(np.where(x == 5, 1, 0))))\n",
        "temp.assign(rnk = temp.n_businesses.rank(method='dense', ascending = False))\\\n",
        "    .query(\"rnk < 6\").sort_values(by='n_businesses', ascending=False)\\\n",
        "    .iloc[:,:-1]"
      ],
      "metadata": {
        "id": "zb1EVPIC5PwB"
      },
      "execution_count": null,
      "outputs": []
    },
    {
      "cell_type": "markdown",
      "source": [
        "[2. Premium vs Freemium](https://platform.stratascratch.com/coding/10300-premium-vs-freemium?code_type=1)\n",
        "\n",
        "Find the total number of downloads for paying and non-paying users by date. Include only records where non-paying customers have more downloads than paying customers. The output should be sorted by earliest date first and contain 3 columns date, non-paying downloads, paying downloads. Hint: In Oracle you should use \"date\" when referring to date column (reserved keyword).\n",
        "\n",
        "```sql\n",
        "select\n",
        "date,\n",
        "SUM(downloads) FILTER (WHERE paying_customer = 'no') AS non_paying,\n",
        "SUM(downloads)  FILTER (WHERE paying_customer = 'yes') AS paying\n",
        "from ms_user_dimension\n",
        "INNER JOIN ms_acc_dimension USING(acc_id)\n",
        "INNER JOIN ms_download_facts USING(user_id)\n",
        "GROUP BY date\n",
        "HAVING SUM(downloads) FILTER (WHERE paying_customer = 'no') > SUM(downloads) FILTER (WHERE paying_customer = 'yes')\n",
        "ORDER BY 1\n",
        "```"
      ],
      "metadata": {
        "id": "2i9IA5QlSq9Y"
      }
    }
  ]
}