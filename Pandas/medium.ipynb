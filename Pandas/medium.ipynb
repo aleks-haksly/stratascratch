{
  "nbformat": 4,
  "nbformat_minor": 0,
  "metadata": {
    "colab": {
      "provenance": [],
      "authorship_tag": "ABX9TyMCo9eN6WGerWPJQhMqRXZw",
      "include_colab_link": true
    },
    "kernelspec": {
      "name": "python3",
      "display_name": "Python 3"
    },
    "language_info": {
      "name": "python"
    }
  },
  "cells": [
    {
      "cell_type": "markdown",
      "metadata": {
        "id": "view-in-github",
        "colab_type": "text"
      },
      "source": [
        "<a href=\"https://colab.research.google.com/github/aleks-haksly/stratascratch/blob/main/Pandas/medium.ipynb\" target=\"_parent\"><img src=\"https://colab.research.google.com/assets/colab-badge.svg\" alt=\"Open In Colab\"/></a>"
      ]
    },
    {
      "cell_type": "markdown",
      "source": [
        "[1. Workers by Department Since April](https://platform.stratascratch.com/coding/9847-find-the-number-of-workers-by-department?code_type=2)\n",
        "\n",
        "Find the number of workers by department who joined on or after April 1, 2014.\n",
        "\n",
        "Output the department name along with the corresponding number of workers.\n",
        "\n",
        "Sort the results based on the number of workers in descending order."
      ],
      "metadata": {
        "id": "snSl7iIbsoo5"
      }
    },
    {
      "cell_type": "code",
      "execution_count": null,
      "metadata": {
        "id": "2BqVz-_or7wG"
      },
      "outputs": [],
      "source": [
        "[]import pandas as pd\n",
        "# Start writing code\n",
        "worker.query(\"joining_date >= '2014-04-01'\")\\\n",
        "      .groupby(\"department\", as_index=False)\\\n",
        "      .agg(num_workers = ('worker_id', 'count'))\\\n",
        "      .sort_values(by='num_workers', ascending=False)"
      ]
    },
    {
      "cell_type": "markdown",
      "source": [
        "[2. Highly Reviewed Hotels](https://platform.stratascratch.com/coding/9871-highly-reviewed-hotels?code_type=2)\n",
        "\n",
        "List all hotels along with their total number of reviews using the total_number_of_reviews column. Sort the results by total reviews in descending order."
      ],
      "metadata": {
        "id": "sG7e-xSfuGAH"
      }
    },
    {
      "cell_type": "code",
      "source": [
        "# Import your libraries\n",
        "import pandas as pd\n",
        "# Start writing code\n",
        "hotel_reviews[['hotel_name', 'total_number_of_reviews']].sort_values(by='total_number_of_reviews', ascending=False).drop_duplicates()"
      ],
      "metadata": {
        "id": "CUUnwCvqv08C"
      },
      "execution_count": null,
      "outputs": []
    },
    {
      "cell_type": "markdown",
      "source": [
        "[4. Titanic Survivors and Non-Survivors](https://platform.stratascratch.com/coding/9881-make-a-report-showing-the-number-of-survivors-and-non-survivors-by-passenger-class?code_type=2)"
      ],
      "metadata": {
        "id": "3h4FyBmaizh2"
      }
    },
    {
      "cell_type": "code",
      "source": [
        "# Import your libraries\n",
        "import pandas as pd\n",
        "import numpy as np\n",
        "\n",
        "# Start writing code\n",
        "titanic.groupby(\"survived\", as_index=False).agg(first_class = ('pclass', lambda x: sum(np.where(x == 1, 1, 0))),\n",
        "                                                second_classs = ('pclass', lambda x: sum(np.where(x == 2, 1, 0))),\n",
        "                                                third_class = ('pclass', lambda x: sum(np.where(x == 3, 1, 0))))\n"
      ],
      "metadata": {
        "id": "kEe-J-LcjBPB"
      },
      "execution_count": null,
      "outputs": []
    },
    {
      "cell_type": "code",
      "source": [],
      "metadata": {
        "id": "yfl2QJXPjPfm"
      },
      "execution_count": null,
      "outputs": []
    }
  ]
}