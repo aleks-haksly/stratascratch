{
  "nbformat": 4,
  "nbformat_minor": 0,
  "metadata": {
    "colab": {
      "provenance": [],
      "authorship_tag": "ABX9TyOe9UWIQTjucSD7J0Cwad0Q",
      "include_colab_link": true
    },
    "kernelspec": {
      "name": "python3",
      "display_name": "Python 3"
    },
    "language_info": {
      "name": "python"
    }
  },
  "cells": [
    {
      "cell_type": "markdown",
      "metadata": {
        "id": "view-in-github",
        "colab_type": "text"
      },
      "source": [
        "<a href=\"https://colab.research.google.com/github/aleks-haksly/stratascratch/blob/main/Pandas/medium.ipynb\" target=\"_parent\"><img src=\"https://colab.research.google.com/assets/colab-badge.svg\" alt=\"Open In Colab\"/></a>"
      ]
    },
    {
      "cell_type": "markdown",
      "source": [
        "[1. Workers by Department Since April](https://platform.stratascratch.com/coding/9847-find-the-number-of-workers-by-department?code_type=2)\n",
        "\n",
        "Find the number of workers by department who joined on or after April 1, 2014.\n",
        "\n",
        "Output the department name along with the corresponding number of workers.\n",
        "\n",
        "Sort the results based on the number of workers in descending order."
      ],
      "metadata": {
        "id": "snSl7iIbsoo5"
      }
    },
    {
      "cell_type": "code",
      "execution_count": null,
      "metadata": {
        "id": "2BqVz-_or7wG"
      },
      "outputs": [],
      "source": [
        "[]import pandas as pd\n",
        "# Start writing code\n",
        "worker.query(\"joining_date >= '2014-04-01'\")\\\n",
        "      .groupby(\"department\", as_index=False)\\\n",
        "      .agg(num_workers = ('worker_id', 'count'))\\\n",
        "      .sort_values(by='num_workers', ascending=False)"
      ]
    },
    {
      "cell_type": "markdown",
      "source": [
        "[2. Highly Reviewed Hotels](https://platform.stratascratch.com/coding/9871-highly-reviewed-hotels?code_type=2)\n",
        "\n",
        "List all hotels along with their total number of reviews using the total_number_of_reviews column. Sort the results by total reviews in descending order."
      ],
      "metadata": {
        "id": "sG7e-xSfuGAH"
      }
    },
    {
      "cell_type": "code",
      "source": [
        "# Import your libraries\n",
        "import pandas as pd\n",
        "# Start writing code\n",
        "hotel_reviews[['hotel_name', 'total_number_of_reviews']].sort_values(by='total_number_of_reviews', ascending=False).drop_duplicates()"
      ],
      "metadata": {
        "id": "CUUnwCvqv08C"
      },
      "execution_count": null,
      "outputs": []
    },
    {
      "cell_type": "markdown",
      "source": [
        "[4. Titanic Survivors and Non-Survivors](https://platform.stratascratch.com/coding/9881-make-a-report-showing-the-number-of-survivors-and-non-survivors-by-passenger-class?code_type=2)"
      ],
      "metadata": {
        "id": "3h4FyBmaizh2"
      }
    },
    {
      "cell_type": "markdown",
      "source": [
        "```sql\n",
        "select\n",
        "survived,\n",
        "SUM(CASE WHEN pclass = 1 THEN 1 ELSE 0 END) AS first_class,\n",
        "SUM(CASE WHEN pclass = 2 THEN 1 ELSE 0 END) AS second_class,\n",
        "SUM(CASE WHEN pclass = 3 THEN 1 ELSE 0 END) AS third_class\n",
        "from titanic\n",
        "GROUP BY survived\n",
        "ORDER BY 1\n",
        "```"
      ],
      "metadata": {
        "id": "gVoy_fUVs0gA"
      }
    },
    {
      "cell_type": "code",
      "source": [
        "# Import your libraries\n",
        "import pandas as pd\n",
        "import numpy as np\n",
        "\n",
        "# Start writing code\n",
        "titanic.groupby(\"survived\", as_index=False).agg(first_class = ('pclass', lambda x: sum(np.where(x == 1, 1, 0))),\n",
        "                                                second_classs = ('pclass', lambda x: sum(np.where(x == 2, 1, 0))),\n",
        "                                                third_class = ('pclass', lambda x: sum(np.where(x == 3, 1, 0))))\n"
      ],
      "metadata": {
        "id": "kEe-J-LcjBPB"
      },
      "execution_count": null,
      "outputs": []
    },
    {
      "cell_type": "markdown",
      "source": [
        "[5. Second Highest Salary](https://platform.stratascratch.com/coding/9892-second-highest-salary?code_type=2)\n",
        "\n",
        "```sql\n",
        "SELECT\n",
        "  salary\n",
        "FROM (\n",
        "select salary,\n",
        "dense_rank() OVER (ORDER BY salary DESC) AS drn\n",
        "from employee) sub\n",
        "WHERE sub.drn = 2\n",
        "```\n"
      ],
      "metadata": {
        "id": "Q7Gqb9H0t_ih"
      }
    },
    {
      "cell_type": "code",
      "source": [
        "employee[employee.salary.rank(method='dense', ascending=False) == 2][[\"salary\"]]"
      ],
      "metadata": {
        "id": "yfl2QJXPjPfm"
      },
      "execution_count": null,
      "outputs": []
    },
    {
      "cell_type": "markdown",
      "source": [
        "[6. Employee and Manager Salaries](https://platform.stratascratch.com/coding/9894-employee-and-manager-salaries?code_type=1)\n",
        "\n",
        "```sql\n",
        "SELECT\n",
        "ee.first_name, ee.salary\n",
        "FROM employee ee\n",
        "INNER JOIN employee em ON ee.manager_id = em.id\n",
        "WHERE ee.salary > em.salary\n",
        "```"
      ],
      "metadata": {
        "id": "kVUdQaTWw09F"
      }
    },
    {
      "cell_type": "code",
      "source": [
        "employee.merge(employee, how='left', left_on='manager_id', right_on='id', suffixes=['_x', '_y'])\\\n",
        "        .query(\"salary_x > salary_y\")[[\"first_name_x\", \"salary_x\"]]"
      ],
      "metadata": {
        "id": "8GQgP4Sxx2MK"
      },
      "execution_count": null,
      "outputs": []
    }
  ]
}