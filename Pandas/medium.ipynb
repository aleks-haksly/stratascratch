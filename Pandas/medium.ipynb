{
  "nbformat": 4,
  "nbformat_minor": 0,
  "metadata": {
    "colab": {
      "provenance": [],
      "authorship_tag": "ABX9TyO1aspTnFo1mZX3aGcKG7Gv",
      "include_colab_link": true
    },
    "kernelspec": {
      "name": "python3",
      "display_name": "Python 3"
    },
    "language_info": {
      "name": "python"
    }
  },
  "cells": [
    {
      "cell_type": "markdown",
      "metadata": {
        "id": "view-in-github",
        "colab_type": "text"
      },
      "source": [
        "<a href=\"https://colab.research.google.com/github/aleks-haksly/stratascratch/blob/main/Pandas/medium.ipynb\" target=\"_parent\"><img src=\"https://colab.research.google.com/assets/colab-badge.svg\" alt=\"Open In Colab\"/></a>"
      ]
    },
    {
      "cell_type": "markdown",
      "source": [
        "[1. Workers by Department Since April](https://platform.stratascratch.com/coding/9847-find-the-number-of-workers-by-department?code_type=2)\n",
        "\n",
        "Find the number of workers by department who joined on or after April 1, 2014.\n",
        "\n",
        "Output the department name along with the corresponding number of workers.\n",
        "\n",
        "Sort the results based on the number of workers in descending order."
      ],
      "metadata": {
        "id": "snSl7iIbsoo5"
      }
    },
    {
      "cell_type": "code",
      "execution_count": null,
      "metadata": {
        "id": "2BqVz-_or7wG"
      },
      "outputs": [],
      "source": [
        "[]import pandas as pd\n",
        "# Start writing code\n",
        "worker.query(\"joining_date >= '2014-04-01'\")\\\n",
        "      .groupby(\"department\", as_index=False)\\\n",
        "      .agg(num_workers = ('worker_id', 'count'))\\\n",
        "      .sort_values(by='num_workers', ascending=False)"
      ]
    },
    {
      "cell_type": "markdown",
      "source": [
        "[2. Highly Reviewed Hotels](https://platform.stratascratch.com/coding/9871-highly-reviewed-hotels?code_type=2)\n",
        "\n",
        "List all hotels along with their total number of reviews using the total_number_of_reviews column. Sort the results by total reviews in descending order."
      ],
      "metadata": {
        "id": "sG7e-xSfuGAH"
      }
    },
    {
      "cell_type": "code",
      "source": [
        "# Import your libraries\n",
        "import pandas as pd\n",
        "# Start writing code\n",
        "hotel_reviews[['hotel_name', 'total_number_of_reviews']].sort_values(by='total_number_of_reviews', ascending=False).drop_duplicates()"
      ],
      "metadata": {
        "id": "CUUnwCvqv08C"
      },
      "execution_count": null,
      "outputs": []
    }
  ]
}